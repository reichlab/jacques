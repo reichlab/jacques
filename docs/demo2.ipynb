{
 "cells": [
  {
   "cell_type": "code",
   "execution_count": 2,
   "metadata": {},
   "outputs": [],
   "source": [
    "import math\n",
    "\n",
    "import matplotlib.pyplot as plt\n",
    "import numpy as np\n",
    "import tensorflow as tf\n",
    "import pandas as pd\n",
    "\n",
    "from jacques import kcqe\n",
    "\n",
    "plt.style.use('ggplot')"
   ]
  },
  {
   "cell_type": "code",
   "execution_count": 6,
   "metadata": {},
   "outputs": [],
   "source": [
    "# Data generation adapted from https://matplotlib.org/stable/gallery/mplot3d/scatter3d.html\n",
    "# Fix random state for reproducibility\n",
    "np.random.seed(9731)\n",
    "\n",
    "def randrange(n, vmin, vmax):\n",
    "    \"\"\"\n",
    "    Helper function to make an array of random numbers having shape (n, )\n",
    "    with each number distributed Uniform(vmin, vmax).\n",
    "    \"\"\"\n",
    "    return (vmax - vmin)*np.random.rand(n) + vmin\n",
    "\n",
    "n = 500\n",
    "\n",
    "# Generate a vector of 500 consecutive dates starting from today\n",
    "start_date = pd.Timestamp.today().normalize()  # Normalize to remove time component\n",
    "date_vector = pd.date_range(start=start_date, periods=n)\n",
    "\n",
    "#Create random predictors x0 and x1\n",
    "x0 = randrange(n, -2. * np.pi, 2. * np.pi)\n",
    "x1 = randrange(n, -2. * np.pi, 2. * np.pi)\n",
    "days = np.arange(1, 501)\n",
    "\n",
    "#Create response variable y\n",
    "y = 1.2 * days + 10. * np.cos(x0) + 0.5 * x1**2 + np.random.normal(loc=0., scale=5., size=n)"
   ]
  },
  {
   "cell_type": "code",
   "execution_count": 8,
   "metadata": {},
   "outputs": [],
   "source": [
    "num_blocks = 10\n",
    "batch_size = 1\n",
    "num_epochs = 10\n",
    "\n",
    "num_batches = math.ceil(num_blocks / batch_size)"
   ]
  },
  {
   "cell_type": "code",
   "execution_count": 10,
   "metadata": {},
   "outputs": [],
   "source": [
    "p=3\n",
    "n_param = int(p + 1)\n",
    "\n",
    "init_param_vec = tf.constant(np.zeros(n_param, dtype=np.float32))\n",
    "        \n",
    "# declare variable representing parameters to estimate\n",
    "param_vec_var = tf.Variable(initial_value=init_param_vec, name=\"param_vec\", dtype=np.float32)"
   ]
  },
  {
   "cell_type": "code",
   "execution_count": 11,
   "metadata": {},
   "outputs": [],
   "source": [
    "lls_ = np.zeros(num_epochs * num_batches, np.float32)\n",
    "i = 0\n",
    "\n",
    "trainable_variables = [param_vec_var]"
   ]
  },
  {
   "cell_type": "code",
   "execution_count": 12,
   "metadata": {},
   "outputs": [],
   "source": [
    "epoch = 1\n",
    "batch_ind = 1"
   ]
  },
  {
   "cell_type": "code",
   "execution_count": 17,
   "metadata": {},
   "outputs": [],
   "source": [
    "df = pd.DataFrame({'date': date_vector, 'days': days, 'x0': x0, 'x1': x1, 'y': y})"
   ]
  },
  {
   "cell_type": "code",
   "execution_count": 14,
   "metadata": {},
   "outputs": [],
   "source": [
    "from jacques.data_processing import assign_blocks, calc_diffs_all_train_blocks, train_test_pairings"
   ]
  },
  {
   "cell_type": "code",
   "execution_count": 18,
   "metadata": {},
   "outputs": [],
   "source": [
    "block_list = assign_blocks(df, time_var = 'date', features = ['days', 'x0', 'x1'], target = 'y', num_blocks = num_blocks)"
   ]
  },
  {
   "cell_type": "code",
   "execution_count": 19,
   "metadata": {},
   "outputs": [],
   "source": [
    "# Split block_list into features and targets\n",
    "features_list = [block['features'] for block in block_list]\n",
    "targets_list = [block['target'] for block in block_list]"
   ]
  },
  {
   "cell_type": "code",
   "execution_count": 20,
   "metadata": {},
   "outputs": [],
   "source": [
    "diffs = calc_diffs_all_train_blocks(features_list, \"difference\")"
   ]
  },
  {
   "cell_type": "code",
   "execution_count": 21,
   "metadata": {},
   "outputs": [],
   "source": [
    "train_test_matrix = train_test_pairings(num_blocks)"
   ]
  },
  {
   "cell_type": "code",
   "execution_count": 23,
   "metadata": {},
   "outputs": [],
   "source": [
    "y_train = [block for block, keep in zip(features_list, train_test_matrix[batch_ind]) if keep]\n",
    "y_test = targets_list[batch_ind]\n",
    "test_block = features_list[batch_ind]"
   ]
  },
  {
   "cell_type": "code",
   "execution_count": 24,
   "metadata": {},
   "outputs": [],
   "source": [
    "from jacques.kernels import kernel_weights2"
   ]
  },
  {
   "cell_type": "code",
   "execution_count": 25,
   "metadata": {},
   "outputs": [],
   "source": [
    "param_dict = {'x_bw_raw': param_vec_var[:-1],\n",
    "            'y_bw_raw': param_vec_var[-1]}"
   ]
  },
  {
   "cell_type": "code",
   "execution_count": 28,
   "metadata": {},
   "outputs": [],
   "source": [
    "import tensorflow_probability as tfp\n",
    "\n",
    "softplus_bijector = tfp.bijectors.Softplus()\n",
    "corr_chol_bijector = tfp.bijectors.CorrelationCholesky()"
   ]
  },
  {
   "cell_type": "code",
   "execution_count": 30,
   "metadata": {},
   "outputs": [],
   "source": [
    "theta_b = param_dict['x_bw_raw']\n",
    "B_chol = tf.linalg.diag(softplus_bijector.forward(theta_b))"
   ]
  },
  {
   "cell_type": "code",
   "execution_count": 33,
   "metadata": {},
   "outputs": [],
   "source": [
    "one_diffs = diffs[batch_ind]"
   ]
  },
  {
   "cell_type": "code",
   "execution_count": 35,
   "metadata": {},
   "outputs": [],
   "source": [
    "one_diffs = tf.concat(diffs[batch_ind], axis=1)"
   ]
  },
  {
   "cell_type": "code",
   "execution_count": 39,
   "metadata": {},
   "outputs": [
    {
     "data": {
      "text/plain": [
       "<tf.Tensor: shape=(50, 350, 3), dtype=float32, numpy=\n",
       "array([[[-1.0000000e+02,  8.9164009e+00,  3.1024235e-01],\n",
       "        [-1.0100000e+02,  4.8176355e+00,  1.0059946e+00],\n",
       "        [-1.0200000e+02,  9.8520355e+00,  5.2612772e+00],\n",
       "        ...,\n",
       "        [-4.4700000e+02, -9.3581438e-01,  3.5193257e+00],\n",
       "        [-4.4800000e+02, -1.1504474e+00,  3.9883337e+00],\n",
       "        [-4.4900000e+02,  9.6734715e+00, -4.2674308e+00]],\n",
       "\n",
       "       [[-9.9000000e+01,  6.6218486e+00, -2.5981209e+00],\n",
       "        [-1.0000000e+02,  2.5230837e+00, -1.9023688e+00],\n",
       "        [-1.0100000e+02,  7.5574841e+00,  2.3529139e+00],\n",
       "        ...,\n",
       "        [-4.4600000e+02, -3.2303662e+00,  6.1096239e-01],\n",
       "        [-4.4700000e+02, -3.4449992e+00,  1.0799704e+00],\n",
       "        [-4.4800000e+02,  7.3789196e+00, -7.1757941e+00]],\n",
       "\n",
       "       [[-9.8000000e+01,  1.6147349e+00, -2.7156711e-01],\n",
       "        [-9.9000000e+01, -2.4840298e+00,  4.2418510e-01],\n",
       "        [-1.0000000e+02,  2.5503705e+00,  4.6794677e+00],\n",
       "        ...,\n",
       "        [-4.4500000e+02, -8.2374802e+00,  2.9375162e+00],\n",
       "        [-4.4600000e+02, -8.4521132e+00,  3.4065242e+00],\n",
       "        [-4.4700000e+02,  2.3718059e+00, -4.8492403e+00]],\n",
       "\n",
       "       ...,\n",
       "\n",
       "       [[-5.3000000e+01,  4.7830915e+00, -4.7448030e+00],\n",
       "        [-5.4000000e+01,  6.8432677e-01, -4.0490503e+00],\n",
       "        [-5.5000000e+01,  5.7187271e+00,  2.0623207e-01],\n",
       "        ...,\n",
       "        [-4.0000000e+02, -5.0691233e+00, -1.5357194e+00],\n",
       "        [-4.0100000e+02, -5.2837563e+00, -1.0667114e+00],\n",
       "        [-4.0200000e+02,  5.5401626e+00, -9.3224754e+00]],\n",
       "\n",
       "       [[-5.2000000e+01,  2.9049692e+00,  8.1012964e-01],\n",
       "        [-5.3000000e+01, -1.1937956e+00,  1.5058818e+00],\n",
       "        [-5.4000000e+01,  3.8406048e+00,  5.7611647e+00],\n",
       "        ...,\n",
       "        [-3.9900000e+02, -6.9472456e+00,  4.0192132e+00],\n",
       "        [-4.0000000e+02, -7.1618786e+00,  4.4882212e+00],\n",
       "        [-4.0100000e+02,  3.6620402e+00, -3.7675436e+00]],\n",
       "\n",
       "       [[-5.1000000e+01,  9.5969524e+00,  9.1902214e-01],\n",
       "        [-5.2000000e+01,  5.4981880e+00,  1.6147743e+00],\n",
       "        [-5.3000000e+01,  1.0532589e+01,  5.8700571e+00],\n",
       "        ...,\n",
       "        [-3.9800000e+02, -2.5526190e-01,  4.1281056e+00],\n",
       "        [-3.9900000e+02, -4.6989489e-01,  4.5971136e+00],\n",
       "        [-4.0000000e+02,  1.0354024e+01, -3.6586509e+00]]], dtype=float32)>"
      ]
     },
     "execution_count": 39,
     "metadata": {},
     "output_type": "execute_result"
    }
   ],
   "source": [
    "one_diffs"
   ]
  },
  {
   "cell_type": "code",
   "execution_count": 37,
   "metadata": {},
   "outputs": [
    {
     "data": {
      "text/plain": [
       "<tf.Tensor: shape=(50, 350), dtype=float32, numpy=\n",
       "array([[nan, nan, nan, ..., nan, nan, nan],\n",
       "       [nan, nan, nan, ..., nan, nan, nan],\n",
       "       [nan, nan, nan, ..., nan, nan, nan],\n",
       "       ...,\n",
       "       [nan, nan, nan, ..., nan, nan, nan],\n",
       "       [nan, nan, nan, ..., nan, nan, nan],\n",
       "       [nan, nan, nan, ..., nan, nan, nan]], dtype=float32)>"
      ]
     },
     "execution_count": 37,
     "metadata": {},
     "output_type": "execute_result"
    }
   ],
   "source": [
    "kernel_weights2(one_diffs, theta_b = param_dict['x_bw_raw'], kernel = 'gaussian_diag')"
   ]
  }
 ],
 "metadata": {
  "kernelspec": {
   "display_name": ".venv",
   "language": "python",
   "name": "python3"
  },
  "language_info": {
   "codemirror_mode": {
    "name": "ipython",
    "version": 3
   },
   "file_extension": ".py",
   "mimetype": "text/x-python",
   "name": "python",
   "nbconvert_exporter": "python",
   "pygments_lexer": "ipython3",
   "version": "3.12.3"
  }
 },
 "nbformat": 4,
 "nbformat_minor": 2
}
